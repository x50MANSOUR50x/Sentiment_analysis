{
 "cells": [
  {
   "cell_type": "code",
   "execution_count": 1,
   "id": "2e64f776",
   "metadata": {},
   "outputs": [],
   "source": [
    "import joblib\n",
    "import re\n",
    "import nltk\n",
    "from nltk.corpus import stopwords\n",
    "from nltk.stem import PorterStemmer"
   ]
  },
  {
   "cell_type": "code",
   "execution_count": 2,
   "id": "b008cae5",
   "metadata": {},
   "outputs": [],
   "source": [
    "clf_loaded = joblib.load(r'C:\\Users\\moham\\OneDrive\\Desktop\\Courses\\Elevvo Internship\\Sentiment Analysis\\Sentiment Analysis\\Models trained\\sentiment_model.pkl')\n",
    "vectorizer_loaded = joblib.load(r'C:\\Users\\moham\\OneDrive\\Desktop\\Courses\\Elevvo Internship\\Sentiment Analysis\\Sentiment Analysis\\Models trained\\tfidf_vectorizer.pkl')"
   ]
  },
  {
   "cell_type": "code",
   "execution_count": 3,
   "id": "20804d60",
   "metadata": {},
   "outputs": [
    {
     "name": "stderr",
     "output_type": "stream",
     "text": [
      "[nltk_data] Downloading package stopwords to\n",
      "[nltk_data]     C:\\Users\\moham\\AppData\\Roaming\\nltk_data...\n",
      "[nltk_data]   Package stopwords is already up-to-date!\n"
     ]
    },
    {
     "data": {
      "text/plain": [
       "True"
      ]
     },
     "execution_count": 3,
     "metadata": {},
     "output_type": "execute_result"
    }
   ],
   "source": [
    "nltk.download('stopwords')"
   ]
  },
  {
   "cell_type": "code",
   "execution_count": 4,
   "id": "2a1c5386",
   "metadata": {},
   "outputs": [],
   "source": [
    "stop_words = set(stopwords.words('english'))"
   ]
  },
  {
   "cell_type": "code",
   "execution_count": 5,
   "id": "bab0df62",
   "metadata": {},
   "outputs": [],
   "source": [
    "stemmer = PorterStemmer()"
   ]
  },
  {
   "cell_type": "code",
   "execution_count": null,
   "id": "40e66d25",
   "metadata": {},
   "outputs": [],
   "source": [
    "def clean_text(text):\n",
    "    # Lowercase and remove HTML tags\n",
    "    text = re.sub(r'<.*?>', '', text.lower())\n",
    "\n",
    "    # Remove non-letter characters (punctuation, numbers, symbols)\n",
    "    text = re.sub(r'[^a-z\\s]', '', text)\n",
    "\n",
    "    # Tokenize, remove stopwords, apply stemming\n",
    "    words = [stemmer.stem(word) for word in text.split() if word not in stop_words]\n",
    "    \n",
    "    # Rejoin, strip leading/trailing spaces, fix multiple spaces\n",
    "    cleaned = re.sub(r'\\s+', ' ', \" \".join(words)).strip()\n",
    "    return cleaned"
   ]
  },
  {
   "cell_type": "code",
   "execution_count": 7,
   "id": "7324a7e5",
   "metadata": {},
   "outputs": [],
   "source": [
    "def predict_from_saved(text):\n",
    "    cleaned = clean_text(text)\n",
    "    vec = vectorizer_loaded.transform([cleaned])\n",
    "    pred = clf_loaded.predict(vec)[0]\n",
    "    return \"positive\" if pred == 1 else \"negative\""
   ]
  },
  {
   "cell_type": "code",
   "execution_count": 8,
   "id": "5938d2a1",
   "metadata": {},
   "outputs": [],
   "source": [
    "# user_input = input(\"Enter your review: \")\n",
    "# print(\"Predicted Sentiment:\", predict_sentiment_logreg(user_input))"
   ]
  },
  {
   "cell_type": "code",
   "execution_count": 9,
   "id": "87d1d09e",
   "metadata": {},
   "outputs": [
    {
     "name": "stdout",
     "output_type": "stream",
     "text": [
      "positive\n"
     ]
    }
   ],
   "source": [
    "print(predict_from_saved(\"The movie was fantastic and emotional.\"))"
   ]
  },
  {
   "cell_type": "code",
   "execution_count": 10,
   "id": "05606b82",
   "metadata": {},
   "outputs": [
    {
     "name": "stdout",
     "output_type": "stream",
     "text": [
      "negative\n"
     ]
    }
   ],
   "source": [
    "print(predict_from_saved(\"The movie was bad and not good.\"))"
   ]
  }
 ],
 "metadata": {
  "kernelspec": {
   "display_name": "base",
   "language": "python",
   "name": "python3"
  },
  "language_info": {
   "codemirror_mode": {
    "name": "ipython",
    "version": 3
   },
   "file_extension": ".py",
   "mimetype": "text/x-python",
   "name": "python",
   "nbconvert_exporter": "python",
   "pygments_lexer": "ipython3",
   "version": "3.12.7"
  }
 },
 "nbformat": 4,
 "nbformat_minor": 5
}
